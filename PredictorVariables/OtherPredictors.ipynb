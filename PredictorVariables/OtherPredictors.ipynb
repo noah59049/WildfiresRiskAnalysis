{
 "cells": [
  {
   "cell_type": "code",
   "execution_count": 1,
   "id": "49e233a8",
   "metadata": {},
   "outputs": [],
   "source": [
    "import numpy as np\n",
    "import pandas as pd\n",
    "import matplotlib.pyplot as plt"
   ]
  },
  {
   "cell_type": "code",
   "execution_count": 2,
   "id": "4e2d8fea",
   "metadata": {},
   "outputs": [],
   "source": [
    "df = pd.read_csv(\"income.csv\")"
   ]
  },
  {
   "cell_type": "code",
   "execution_count": 3,
   "id": "273f914c",
   "metadata": {},
   "outputs": [
    {
     "data": {
      "text/plain": [
       "array(['Civilian_labor_force_2000', 'Employed_2000', 'Unemployed_2000',\n",
       "       'Unemployment_rate_2000', 'Civilian_labor_force_2001',\n",
       "       'Employed_2001', 'Unemployed_2001', 'Unemployment_rate_2001',\n",
       "       'Civilian_labor_force_2002', 'Employed_2002', 'Unemployed_2002',\n",
       "       'Unemployment_rate_2002', 'Civilian_labor_force_2003',\n",
       "       'Employed_2003', 'Unemployed_2003', 'Unemployment_rate_2003',\n",
       "       'Civilian_labor_force_2004', 'Employed_2004', 'Unemployed_2004',\n",
       "       'Unemployment_rate_2004', 'Civilian_labor_force_2005',\n",
       "       'Employed_2005', 'Unemployed_2005', 'Unemployment_rate_2005',\n",
       "       'Civilian_labor_force_2006', 'Employed_2006', 'Unemployed_2006',\n",
       "       'Unemployment_rate_2006', 'Civilian_labor_force_2007',\n",
       "       'Employed_2007', 'Unemployed_2007', 'Unemployment_rate_2007',\n",
       "       'Civilian_labor_force_2008', 'Employed_2008', 'Unemployed_2008',\n",
       "       'Unemployment_rate_2008', 'Civilian_labor_force_2009',\n",
       "       'Employed_2009', 'Unemployed_2009', 'Unemployment_rate_2009',\n",
       "       'Civilian_labor_force_2010', 'Employed_2010', 'Unemployed_2010',\n",
       "       'Unemployment_rate_2010', 'Civilian_labor_force_2011',\n",
       "       'Employed_2011', 'Unemployed_2011', 'Unemployment_rate_2011',\n",
       "       'Civilian_labor_force_2012', 'Employed_2012', 'Unemployed_2012',\n",
       "       'Unemployment_rate_2012', 'Civilian_labor_force_2013',\n",
       "       'Employed_2013', 'Unemployed_2013', 'Unemployment_rate_2013',\n",
       "       'Civilian_labor_force_2014', 'Employed_2014', 'Unemployed_2014',\n",
       "       'Unemployment_rate_2014', 'Civilian_labor_force_2015',\n",
       "       'Employed_2015', 'Unemployed_2015', 'Unemployment_rate_2015',\n",
       "       'Civilian_labor_force_2016', 'Employed_2016', 'Unemployed_2016',\n",
       "       'Unemployment_rate_2016', 'Civilian_labor_force_2017',\n",
       "       'Employed_2017', 'Unemployed_2017', 'Unemployment_rate_2017',\n",
       "       'Civilian_labor_force_2018', 'Employed_2018', 'Unemployed_2018',\n",
       "       'Unemployment_rate_2018', 'Civilian_labor_force_2019',\n",
       "       'Employed_2019', 'Unemployed_2019', 'Unemployment_rate_2019',\n",
       "       'Civilian_labor_force_2020', 'Employed_2020', 'Unemployed_2020',\n",
       "       'Unemployment_rate_2020', 'Civilian_labor_force_2021',\n",
       "       'Employed_2021', 'Unemployed_2021', 'Unemployment_rate_2021',\n",
       "       'Civilian_labor_force_2022', 'Employed_2022', 'Unemployed_2022',\n",
       "       'Unemployment_rate_2022', 'Civilian_labor_force_2023',\n",
       "       'Employed_2023', 'Unemployed_2023', 'Unemployment_rate_2023',\n",
       "       'Median_Household_Income_2022',\n",
       "       'Med_HH_Income_Percent_of_State_Total_2022',\n",
       "       'Rural_Urban_Continuum_Code_2023', 'Urban_Influence_Code_2013',\n",
       "       'Metro_2023'], dtype=object)"
      ]
     },
     "execution_count": 3,
     "metadata": {},
     "output_type": "execute_result"
    }
   ],
   "source": [
    "df.Attribute.unique()"
   ]
  },
  {
   "cell_type": "code",
   "execution_count": 4,
   "id": "d1463aa9",
   "metadata": {},
   "outputs": [],
   "source": [
    "income = df.query(\"Attribute == 'Median_Household_Income_2022'\").reset_index(drop = True).drop(columns = [\"Attribute\"]).rename(columns = {\"Value\": \"Income\"})"
   ]
  },
  {
   "cell_type": "code",
   "execution_count": 5,
   "id": "1412a79a",
   "metadata": {},
   "outputs": [
    {
     "data": {
      "image/png": "[encoded data removed]",
      "text/plain": [
       "<Figure size 640x480 with 1 Axes>"
      ]
     },
     "metadata": {},
     "output_type": "display_data"
    }
   ],
   "source": [
    "plt.hist(income.Income)\n",
    "plt.show()"
   ]
  },
  {
   "cell_type": "code",
   "execution_count": 6,
   "id": "3581e705",
   "metadata": {},
   "outputs": [],
   "source": [
    "temperatures = pd.read_csv(\"CountyTemperatures.csv\", skiprows = 4)[[\"Name\",\"State\",\"Value\"]].rename(columns = {\"Value\" : \"Temperature\"})"
   ]
  },
  {
   "cell_type": "code",
   "execution_count": null,
   "id": "ed4d8de8",
   "metadata": {},
   "outputs": [],
   "source": []
  }
 ],
 "metadata": {
  "kernelspec": {
   "display_name": "wildfires",
   "language": "python",
   "name": "wildfires"
  },
  "language_info": {
   "codemirror_mode": {
    "name": "ipython",
    "version": 3
   },
   "file_extension": ".py",
   "mimetype": "text/x-python",
   "name": "python",
   "nbconvert_exporter": "python",
   "pygments_lexer": "ipython3",
   "version": "3.11.5"
  }
 },
 "nbformat": 4,
 "nbformat_minor": 5
}
