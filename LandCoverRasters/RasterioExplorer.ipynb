{
 "cells": [
  {
   "cell_type": "code",
   "execution_count": 5,
   "id": "ee6e9ccd",
   "metadata": {},
   "outputs": [],
   "source": [
    "import rasterio"
   ]
  },
  {
   "cell_type": "markdown",
   "id": "e764aad7",
   "metadata": {},
   "source": [
    "https://www.youtube.com/watch?v=LVt8CezezZQ"
   ]
  },
  {
   "cell_type": "code",
   "execution_count": 6,
   "id": "ad9dc072",
   "metadata": {},
   "outputs": [
    {
     "data": {
      "text/plain": [
       "'1.4.3'"
      ]
     },
     "execution_count": 6,
     "metadata": {},
     "output_type": "execute_result"
    }
   ],
   "source": [
    "rasterio.__version__"
   ]
  },
  {
   "cell_type": "code",
   "execution_count": 7,
   "id": "832ae23c",
   "metadata": {},
   "outputs": [],
   "source": [
    "path = \"Annual_NLCD_LndCov_2023_CU_C1V0.tif\""
   ]
  },
  {
   "cell_type": "code",
   "execution_count": 8,
   "id": "921773ea",
   "metadata": {},
   "outputs": [],
   "source": [
    "ds = rasterio.open(path)"
   ]
  },
  {
   "cell_type": "code",
   "execution_count": 9,
   "id": "0df701d8",
   "metadata": {},
   "outputs": [
    {
     "data": {
      "text/plain": [
       "<open DatasetReader name='Annual_NLCD_LndCov_2023_CU_C1V0.tif' mode='r'>"
      ]
     },
     "execution_count": 9,
     "metadata": {},
     "output_type": "execute_result"
    }
   ],
   "source": [
    "ds"
   ]
  },
  {
   "cell_type": "code",
   "execution_count": 10,
   "id": "35a5a2a9",
   "metadata": {},
   "outputs": [],
   "source": [
    "data = ds.read()"
   ]
  },
  {
   "cell_type": "code",
   "execution_count": 11,
   "id": "e5926bc2",
   "metadata": {},
   "outputs": [
    {
     "data": {
      "text/plain": [
       "array([[[250, 250, 250, ..., 250, 250, 250],\n",
       "        [250, 250, 250, ..., 250, 250, 250],\n",
       "        [250, 250, 250, ..., 250, 250, 250],\n",
       "        ...,\n",
       "        [250, 250, 250, ..., 250, 250, 250],\n",
       "        [250, 250, 250, ..., 250, 250, 250],\n",
       "        [250, 250, 250, ..., 250, 250, 250]]],\n",
       "      shape=(1, 105000, 160000), dtype=uint8)"
      ]
     },
     "execution_count": 11,
     "metadata": {},
     "output_type": "execute_result"
    }
   ],
   "source": [
    "data"
   ]
  },
  {
   "cell_type": "code",
   "execution_count": 12,
   "id": "af45999e",
   "metadata": {},
   "outputs": [
    {
     "data": {
      "text/plain": [
       "{'driver': 'GTiff',\n",
       " 'dtype': 'uint8',\n",
       " 'nodata': 250.0,\n",
       " 'width': 160000,\n",
       " 'height': 105000,\n",
       " 'count': 1,\n",
       " 'crs': CRS.from_wkt('PROJCS[\"AEA        WGS84\",GEOGCS[\"WGS 84\",DATUM[\"WGS_1984\",SPHEROID[\"WGS 84\",6378137,298.257223563,AUTHORITY[\"EPSG\",\"7030\"]],AUTHORITY[\"EPSG\",\"6326\"]],PRIMEM[\"Greenwich\",0],UNIT[\"degree\",0.0174532925199433,AUTHORITY[\"EPSG\",\"9122\"]],AUTHORITY[\"EPSG\",\"4326\"]],PROJECTION[\"Albers_Conic_Equal_Area\"],PARAMETER[\"latitude_of_center\",23],PARAMETER[\"longitude_of_center\",-96],PARAMETER[\"standard_parallel_1\",29.5],PARAMETER[\"standard_parallel_2\",45.5],PARAMETER[\"false_easting\",0],PARAMETER[\"false_northing\",0],UNIT[\"metre\",1,AUTHORITY[\"EPSG\",\"9001\"]],AXIS[\"Easting\",EAST],AXIS[\"Northing\",NORTH]]'),\n",
       " 'transform': Affine(30.0, 0.0, -2415585.0,\n",
       "        0.0, -30.0, 3314805.0)}"
      ]
     },
     "execution_count": 12,
     "metadata": {},
     "output_type": "execute_result"
    }
   ],
   "source": [
    "ds.meta"
   ]
  },
  {
   "cell_type": "code",
   "execution_count": 13,
   "id": "c2eccedc",
   "metadata": {},
   "outputs": [
    {
     "data": {
      "text/plain": [
       "'Annual_NLCD_LndCov_2023_CU_C1V0.tif'"
      ]
     },
     "execution_count": 13,
     "metadata": {},
     "output_type": "execute_result"
    }
   ],
   "source": [
    "ds.name"
   ]
  },
  {
   "cell_type": "code",
   "execution_count": 14,
   "id": "66d5ccbd",
   "metadata": {},
   "outputs": [
    {
     "data": {
      "text/plain": [
       "1"
      ]
     },
     "execution_count": 14,
     "metadata": {},
     "output_type": "execute_result"
    }
   ],
   "source": [
    "ds.count"
   ]
  },
  {
   "cell_type": "code",
   "execution_count": 15,
   "id": "d08dc511",
   "metadata": {},
   "outputs": [
    {
     "data": {
      "text/plain": [
       "(105000, 160000)"
      ]
     },
     "execution_count": 15,
     "metadata": {},
     "output_type": "execute_result"
    }
   ],
   "source": [
    "ds.shape"
   ]
  },
  {
   "cell_type": "code",
   "execution_count": 16,
   "id": "43041cda",
   "metadata": {},
   "outputs": [
    {
     "data": {
      "text/plain": [
       "160000"
      ]
     },
     "execution_count": 16,
     "metadata": {},
     "output_type": "execute_result"
    }
   ],
   "source": [
    "ds.width"
   ]
  },
  {
   "cell_type": "code",
   "execution_count": 17,
   "id": "e066c3f1",
   "metadata": {},
   "outputs": [
    {
     "data": {
      "text/plain": [
       "105000"
      ]
     },
     "execution_count": 17,
     "metadata": {},
     "output_type": "execute_result"
    }
   ],
   "source": [
    "ds.height"
   ]
  },
  {
   "cell_type": "code",
   "execution_count": 18,
   "id": "a11a563e",
   "metadata": {},
   "outputs": [
    {
     "data": {
      "text/plain": [
       "'GTiff'"
      ]
     },
     "execution_count": 18,
     "metadata": {},
     "output_type": "execute_result"
    }
   ],
   "source": [
    "ds.driver"
   ]
  },
  {
   "cell_type": "code",
   "execution_count": 19,
   "id": "6e781283",
   "metadata": {},
   "outputs": [
    {
     "data": {
      "text/plain": [
       "CRS.from_wkt('PROJCS[\"AEA        WGS84\",GEOGCS[\"WGS 84\",DATUM[\"WGS_1984\",SPHEROID[\"WGS 84\",6378137,298.257223563,AUTHORITY[\"EPSG\",\"7030\"]],AUTHORITY[\"EPSG\",\"6326\"]],PRIMEM[\"Greenwich\",0],UNIT[\"degree\",0.0174532925199433,AUTHORITY[\"EPSG\",\"9122\"]],AUTHORITY[\"EPSG\",\"4326\"]],PROJECTION[\"Albers_Conic_Equal_Area\"],PARAMETER[\"latitude_of_center\",23],PARAMETER[\"longitude_of_center\",-96],PARAMETER[\"standard_parallel_1\",29.5],PARAMETER[\"standard_parallel_2\",45.5],PARAMETER[\"false_easting\",0],PARAMETER[\"false_northing\",0],UNIT[\"metre\",1,AUTHORITY[\"EPSG\",\"9001\"]],AXIS[\"Easting\",EAST],AXIS[\"Northing\",NORTH]]')"
      ]
     },
     "execution_count": 19,
     "metadata": {},
     "output_type": "execute_result"
    }
   ],
   "source": [
    "ds.crs"
   ]
  },
  {
   "cell_type": "code",
   "execution_count": 20,
   "id": "605c28b1",
   "metadata": {},
   "outputs": [
    {
     "data": {
      "text/plain": [
       "Affine(30.0, 0.0, -2415585.0,\n",
       "       0.0, -30.0, 3314805.0)"
      ]
     },
     "execution_count": 20,
     "metadata": {},
     "output_type": "execute_result"
    }
   ],
   "source": [
    "ds.transform"
   ]
  },
  {
   "cell_type": "code",
   "execution_count": 21,
   "id": "d2917a00",
   "metadata": {},
   "outputs": [
    {
     "data": {
      "text/plain": [
       "(None,)"
      ]
     },
     "execution_count": 21,
     "metadata": {},
     "output_type": "execute_result"
    }
   ],
   "source": [
    "ds.descriptions"
   ]
  },
  {
   "cell_type": "code",
   "execution_count": 22,
   "id": "28e7e22a",
   "metadata": {},
   "outputs": [
    {
     "data": {
      "text/plain": [
       "16800000000"
      ]
     },
     "execution_count": 22,
     "metadata": {},
     "output_type": "execute_result"
    }
   ],
   "source": [
    "data.size"
   ]
  },
  {
   "cell_type": "code",
   "execution_count": 23,
   "id": "1e195b4f",
   "metadata": {},
   "outputs": [
    {
     "data": {
      "text/plain": [
       "dtype('uint8')"
      ]
     },
     "execution_count": 23,
     "metadata": {},
     "output_type": "execute_result"
    }
   ],
   "source": [
    "data.dtype"
   ]
  },
  {
   "cell_type": "code",
   "execution_count": 24,
   "id": "5c663c89",
   "metadata": {},
   "outputs": [
    {
     "data": {
      "text/plain": [
       "np.uint8(11)"
      ]
     },
     "execution_count": 24,
     "metadata": {},
     "output_type": "execute_result"
    }
   ],
   "source": [
    "data.min()"
   ]
  },
  {
   "cell_type": "code",
   "execution_count": null,
   "id": "367ce61e",
   "metadata": {
    "scrolled": false
   },
   "outputs": [],
   "source": [
    "data.max()"
   ]
  },
  {
   "cell_type": "code",
   "execution_count": null,
   "id": "e14c88ed",
   "metadata": {},
   "outputs": [],
   "source": [
    "from rasterio.plot import show, show_hist"
   ]
  },
  {
   "cell_type": "code",
   "execution_count": null,
   "id": "49c82956",
   "metadata": {},
   "outputs": [],
   "source": [
    "show_hist(ds, bins = 50)"
   ]
  },
  {
   "cell_type": "code",
   "execution_count": null,
   "id": "c9e50173",
   "metadata": {},
   "outputs": [],
   "source": [
    "show(ds)"
   ]
  },
  {
   "cell_type": "code",
   "execution_count": null,
   "id": "45311a24",
   "metadata": {},
   "outputs": [],
   "source": [
    "import matplotlib.pyplot as plt"
   ]
  },
  {
   "cell_type": "code",
   "execution_count": null,
   "id": "87abcf6c",
   "metadata": {},
   "outputs": [],
   "source": [
    "plt.imshow(data)"
   ]
  },
  {
   "cell_type": "code",
   "execution_count": null,
   "id": "3c11c278",
   "metadata": {},
   "outputs": [],
   "source": [
    "import pandas as pd"
   ]
  },
  {
   "cell_type": "code",
   "execution_count": null,
   "id": "50e97678",
   "metadata": {},
   "outputs": [],
   "source": [
    "counts = pd.Series(data.reshape(-1)).value_counts()"
   ]
  },
  {
   "cell_type": "code",
   "execution_count": null,
   "id": "54bccc25",
   "metadata": {},
   "outputs": [],
   "source": [
    "counts"
   ]
  }
 ],
 "metadata": {
  "kernelspec": {
   "display_name": "wildfires",
   "language": "python",
   "name": "wildfires"
  },
  "language_info": {
   "codemirror_mode": {
    "name": "ipython",
    "version": 3
   },
   "file_extension": ".py",
   "mimetype": "text/x-python",
   "name": "python",
   "nbconvert_exporter": "python",
   "pygments_lexer": "ipython3",
   "version": "3.11.5"
  }
 },
 "nbformat": 4,
 "nbformat_minor": 5
}
